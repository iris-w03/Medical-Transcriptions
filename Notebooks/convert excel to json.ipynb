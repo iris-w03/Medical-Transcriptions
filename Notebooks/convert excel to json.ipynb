{
 "cells": [
  {
   "cell_type": "code",
   "execution_count": 1,
   "metadata": {},
   "outputs": [],
   "source": [
    "import pandas as pd\n",
    "# import excel data that need to be converted to json\n",
    "df = pd.read_excel('df_gen_existence.xlsx')"
   ]
  },
  {
   "cell_type": "code",
   "execution_count": 2,
   "metadata": {},
   "outputs": [
    {
     "data": {
      "text/plain": [
       "Index(['report_sid', 'isentence', 'report_id', 'clinical_information',\n",
       "       'technique', 'findings', 'comparison', 'impression', 'modality',\n",
       "       'shape', 'margin', 'density', 'mass_exist', 'shape_exist',\n",
       "       'margin_exist', 'density_exist', 'typically_benign',\n",
       "       'suspicious_morphology', 'distribution', 'calcification_exist',\n",
       "       'benign_exist', 'morphology_exist', 'distribution_exist',\n",
       "       'distortion_exist', 'asymmetry', 'developing_asymmetry',\n",
       "       'focal_asymmetry', 'asymmetry_exist', 'global-asymmetry_exist',\n",
       "       'focal-asymmetry_exist', 'developing-asymmetry_exist',\n",
       "       'intramammary_lymph', 'intramammary_lymph_exist', 'skin_lesion',\n",
       "       'skin-lesion_exist', 'solitary dilated duct', 'skin_retraction',\n",
       "       'nipple_retraction', 'skin_thickening', 'trabecular_thickening',\n",
       "       'axillary_adenopathy', 'architectural_distortion',\n",
       "       'features-calcifications', 'skin_retraction_exist',\n",
       "       'nipple_retraction_exist', 'skin_thickening_exist',\n",
       "       'trabecular_thickening_exist', 'axillary_adenopathy_exist',\n",
       "       'architectural_distortion_exist', 'feature-calcifications_exist',\n",
       "       'laterality', 'quadrant', 'oclock', 'depth', 'distance from the nipple',\n",
       "       'anomaly_pos', 'existence_anomaly'],\n",
       "      dtype='object')"
      ]
     },
     "execution_count": 2,
     "metadata": {},
     "output_type": "execute_result"
    }
   ],
   "source": [
    "df.columns"
   ]
  },
  {
   "cell_type": "code",
   "execution_count": 3,
   "metadata": {},
   "outputs": [
    {
     "data": {
      "text/plain": [
       "Index(['report_sid', 'isentence', 'report_id', 'clinical_information',\n",
       "       'technique', 'findings', 'comparison', 'impression', 'modality'],\n",
       "      dtype='object')"
      ]
     },
     "execution_count": 3,
     "metadata": {},
     "output_type": "execute_result"
    }
   ],
   "source": [
    "df.columns[0:9]"
   ]
  },
  {
   "cell_type": "code",
   "execution_count": 4,
   "metadata": {},
   "outputs": [],
   "source": [
    "df[\"Masses\"] = df[['shape','margin','density','mass_exist','shape_exist','margin_exist','density_exist']].to_dict('records')"
   ]
  },
  {
   "cell_type": "code",
   "execution_count": 5,
   "metadata": {},
   "outputs": [
    {
     "data": {
      "text/plain": [
       "0        {'shape': nan, 'margin': nan, 'density': nan, ...\n",
       "1        {'shape': nan, 'margin': nan, 'density': nan, ...\n",
       "2        {'shape': nan, 'margin': nan, 'density': nan, ...\n",
       "3        {'shape': nan, 'margin': nan, 'density': nan, ...\n",
       "4        {'shape': '[]', 'margin': '[]', 'density': '[]...\n",
       "                               ...                        \n",
       "98026    {'shape': '[]', 'margin': '[]', 'density': '[]...\n",
       "98027    {'shape': nan, 'margin': nan, 'density': nan, ...\n",
       "98028    {'shape': nan, 'margin': nan, 'density': nan, ...\n",
       "98029    {'shape': '[]', 'margin': '[]', 'density': '[]...\n",
       "98030    {'shape': '[]', 'margin': '[]', 'density': '[]...\n",
       "Name: Masses, Length: 98031, dtype: object"
      ]
     },
     "execution_count": 5,
     "metadata": {},
     "output_type": "execute_result"
    }
   ],
   "source": [
    "df[\"Masses\"] "
   ]
  },
  {
   "cell_type": "code",
   "execution_count": 6,
   "metadata": {},
   "outputs": [],
   "source": [
    "df[\"Calcification\"] = df[['typically_benign',\n",
    "       'suspicious_morphology', 'distribution', 'calcification_exist',\n",
    "       'benign_exist', 'morphology_exist', 'distribution_exist']].to_dict('records')"
   ]
  },
  {
   "cell_type": "code",
   "execution_count": 7,
   "metadata": {},
   "outputs": [],
   "source": [
    "df[\"Architectural distortion\"] = df[['distortion_exist']].to_dict('records')"
   ]
  },
  {
   "cell_type": "code",
   "execution_count": 8,
   "metadata": {},
   "outputs": [
    {
     "data": {
      "text/plain": [
       "Index(['asymmetry', 'developing_asymmetry', 'focal_asymmetry',\n",
       "       'asymmetry_exist', 'global-asymmetry_exist', 'focal-asymmetry_exist',\n",
       "       'developing-asymmetry_exist'],\n",
       "      dtype='object')"
      ]
     },
     "execution_count": 8,
     "metadata": {},
     "output_type": "execute_result"
    }
   ],
   "source": [
    "df.columns[24:31]"
   ]
  },
  {
   "cell_type": "code",
   "execution_count": 9,
   "metadata": {},
   "outputs": [],
   "source": [
    "df[\"Asymmetries\"] = df[['asymmetry', 'developing_asymmetry', 'focal_asymmetry',\n",
    "       'asymmetry_exist', 'global-asymmetry_exist', 'focal-asymmetry_exist',\n",
    "       'developing-asymmetry_exist']].to_dict('records')"
   ]
  },
  {
   "cell_type": "code",
   "execution_count": 10,
   "metadata": {},
   "outputs": [
    {
     "data": {
      "text/plain": [
       "Index(['intramammary_lymph', 'intramammary_lymph_exist'], dtype='object')"
      ]
     },
     "execution_count": 10,
     "metadata": {},
     "output_type": "execute_result"
    }
   ],
   "source": [
    "df.columns[31:33]"
   ]
  },
  {
   "cell_type": "code",
   "execution_count": 11,
   "metadata": {},
   "outputs": [],
   "source": [
    "df[\"Intramammary lymph node\"] = df[['intramammary_lymph', 'intramammary_lymph_exist']].to_dict('records')"
   ]
  },
  {
   "cell_type": "code",
   "execution_count": 12,
   "metadata": {},
   "outputs": [
    {
     "data": {
      "text/plain": [
       "Index(['skin_lesion', 'skin-lesion_exist'], dtype='object')"
      ]
     },
     "execution_count": 12,
     "metadata": {},
     "output_type": "execute_result"
    }
   ],
   "source": [
    "df.columns[33:35]"
   ]
  },
  {
   "cell_type": "code",
   "execution_count": 13,
   "metadata": {},
   "outputs": [],
   "source": [
    "df[\"Skin lesion\"] = df[['skin_lesion', 'skin-lesion_exist']].to_dict('records')"
   ]
  },
  {
   "cell_type": "code",
   "execution_count": 14,
   "metadata": {},
   "outputs": [
    {
     "data": {
      "text/plain": [
       "'solitary dilated duct'"
      ]
     },
     "execution_count": 14,
     "metadata": {},
     "output_type": "execute_result"
    }
   ],
   "source": [
    "df.columns[35]"
   ]
  },
  {
   "cell_type": "code",
   "execution_count": 15,
   "metadata": {},
   "outputs": [],
   "source": [
    "df[\"Solitary dilated duct\"] = df[['solitary dilated duct']].to_dict('records')"
   ]
  },
  {
   "cell_type": "code",
   "execution_count": 16,
   "metadata": {},
   "outputs": [
    {
     "data": {
      "text/plain": [
       "Index(['skin_retraction', 'nipple_retraction', 'skin_thickening',\n",
       "       'trabecular_thickening', 'axillary_adenopathy',\n",
       "       'architectural_distortion', 'features-calcifications',\n",
       "       'skin_retraction_exist', 'nipple_retraction_exist',\n",
       "       'skin_thickening_exist', 'trabecular_thickening_exist',\n",
       "       'axillary_adenopathy_exist', 'architectural_distortion_exist',\n",
       "       'feature-calcifications_exist'],\n",
       "      dtype='object')"
      ]
     },
     "execution_count": 16,
     "metadata": {},
     "output_type": "execute_result"
    }
   ],
   "source": [
    "df.columns[36:50]"
   ]
  },
  {
   "cell_type": "code",
   "execution_count": 17,
   "metadata": {},
   "outputs": [],
   "source": [
    "df[\"Associated features\"] = df[['skin_retraction', 'nipple_retraction', 'skin_thickening',\n",
    "       'trabecular_thickening', 'axillary_adenopathy',\n",
    "       'architectural_distortion', 'features-calcifications',\n",
    "       'skin_retraction_exist', 'nipple_retraction_exist',\n",
    "       'skin_thickening_exist', 'trabecular_thickening_exist',\n",
    "       'axillary_adenopathy_exist', 'architectural_distortion_exist',\n",
    "       'feature-calcifications_exist']].to_dict('records')"
   ]
  },
  {
   "cell_type": "code",
   "execution_count": 18,
   "metadata": {},
   "outputs": [
    {
     "data": {
      "text/plain": [
       "Index(['laterality', 'quadrant', 'oclock', 'depth',\n",
       "       'distance from the nipple'],\n",
       "      dtype='object')"
      ]
     },
     "execution_count": 18,
     "metadata": {},
     "output_type": "execute_result"
    }
   ],
   "source": [
    "df.columns[50:55]"
   ]
  },
  {
   "cell_type": "code",
   "execution_count": 19,
   "metadata": {},
   "outputs": [],
   "source": [
    "df[\"Location of lesion\"] = df[['laterality', 'quadrant', 'oclock', 'depth',\n",
    "       'distance from the nipple']].to_dict('records')"
   ]
  },
  {
   "cell_type": "code",
   "execution_count": 20,
   "metadata": {},
   "outputs": [],
   "source": [
    "out = df[['report_sid', 'isentence', 'report_id', 'clinical_information',\n",
    "       'technique', 'findings', 'comparison', 'impression', 'modality', 'Masses',\n",
    "          \"Calcification\",\"Architectural distortion\",\"Asymmetries\",\n",
    "          \"Intramammary lymph node\",\"Skin lesion\",\"Solitary dilated duct\",\"Associated features\",\n",
    "         'anomaly_pos', 'existence_anomaly']].to_json(orient='records', indent=4)"
   ]
  },
  {
   "cell_type": "code",
   "execution_count": 21,
   "metadata": {},
   "outputs": [],
   "source": [
    "import json"
   ]
  },
  {
   "cell_type": "code",
   "execution_count": 22,
   "metadata": {},
   "outputs": [],
   "source": [
    "outlist = json.loads(out,strict=False)"
   ]
  },
  {
   "cell_type": "code",
   "execution_count": 23,
   "metadata": {},
   "outputs": [
    {
     "data": {
      "text/plain": [
       "list"
      ]
     },
     "execution_count": 23,
     "metadata": {},
     "output_type": "execute_result"
    }
   ],
   "source": [
    "type(outlist)"
   ]
  },
  {
   "cell_type": "code",
   "execution_count": 24,
   "metadata": {},
   "outputs": [
    {
     "data": {
      "text/plain": [
       "{'report_sid': 0,\n",
       " 'isentence': 'mediolateral and spot magnification cc and mediolateral views of the right breast were performed digitally and reviewed with the aid of r2 cad 9.3',\n",
       " 'report_id': 0,\n",
       " 'clinical_information': '79-year-old with new calcifications noted on screening mammogram. No current breast complaints.',\n",
       " 'technique': None,\n",
       " 'findings': \"Mediolateral and spot magnification CC and mediolateral views of the right breast were performed digitally and reviewed with the aid of R2 CAD 9.3. The breast parenchyma is composed of scattered fibroglandular density, unchanged in pattern and distribution. Redemonstration of two groups of calcifications within the upper outer breast, 9 o'clock radian. These calcifications were new on the most recent screening mammogram and ones located more posteriorly have an irregular morphology. No suspicious mass lesion or architectural distortion is noted.\",\n",
       " 'comparison': 'Screening mammogram 12/19/14 and prior',\n",
       " 'impression': 'New grouped irregular calcifications in the right upper outer breast as described. Further evaluation with stereotactic biopsy is recommended for the calcifications located posteriorly.BIRADS: 4 - Suspicious Abnormality.RECOMMENDATION: H - Percutaneous Biopsy/Aspiration.',\n",
       " 'modality': 'XRAY',\n",
       " 'Masses': {'shape': None,\n",
       "  'margin': None,\n",
       "  'density': None,\n",
       "  'mass_exist': None,\n",
       "  'shape_exist': None,\n",
       "  'margin_exist': None,\n",
       "  'density_exist': None},\n",
       " 'Calcification': {'typically_benign': None,\n",
       "  'suspicious_morphology': None,\n",
       "  'distribution': None,\n",
       "  'calcification_exist': None,\n",
       "  'benign_exist': None,\n",
       "  'morphology_exist': None,\n",
       "  'distribution_exist': None},\n",
       " 'Architectural distortion': {'distortion_exist': None},\n",
       " 'Asymmetries': {'asymmetry': None,\n",
       "  'developing_asymmetry': None,\n",
       "  'focal_asymmetry': None,\n",
       "  'asymmetry_exist': None,\n",
       "  'global-asymmetry_exist': None,\n",
       "  'focal-asymmetry_exist': None,\n",
       "  'developing-asymmetry_exist': None},\n",
       " 'Intramammary lymph node': {'intramammary_lymph': None,\n",
       "  'intramammary_lymph_exist': None},\n",
       " 'Skin lesion': {'skin_lesion': None, 'skin-lesion_exist': None},\n",
       " 'Solitary dilated duct': {'solitary dilated duct': None},\n",
       " 'Associated features': {'skin_retraction': None,\n",
       "  'nipple_retraction': None,\n",
       "  'skin_thickening': None,\n",
       "  'trabecular_thickening': None,\n",
       "  'axillary_adenopathy': None,\n",
       "  'architectural_distortion': None,\n",
       "  'features-calcifications': None,\n",
       "  'skin_retraction_exist': None,\n",
       "  'nipple_retraction_exist': None,\n",
       "  'skin_thickening_exist': None,\n",
       "  'trabecular_thickening_exist': None,\n",
       "  'axillary_adenopathy_exist': None,\n",
       "  'architectural_distortion_exist': None,\n",
       "  'feature-calcifications_exist': None},\n",
       " 'anomaly_pos': '[]',\n",
       " 'existence_anomaly': '[]'}"
      ]
     },
     "execution_count": 24,
     "metadata": {},
     "output_type": "execute_result"
    }
   ],
   "source": [
    "outlist[0]"
   ]
  },
  {
   "cell_type": "code",
   "execution_count": 25,
   "metadata": {},
   "outputs": [],
   "source": [
    "## convert the list into json, with hierarchy\n",
    "## this version keep all the headers (if there's no corresponding value, still keep the header)\n",
    "with open('output-v1.json', 'w') as file:\n",
    "    json.dump(outlist, file, indent = 4)"
   ]
  },
  {
   "cell_type": "code",
   "execution_count": 27,
   "metadata": {},
   "outputs": [],
   "source": [
    "## if the value of second level header is empty or '[]', remove them\n",
    "## but even if all of one header's second level header has empty value, still keep the header, see example below\n",
    "def clean_nones(value):\n",
    "    \"\"\"\n",
    "    Recursively remove all None values from dictionaries and lists, and returns\n",
    "    the result as a new dictionary or list.\n",
    "    \"\"\"\n",
    "    if isinstance(value, list):\n",
    "        return [clean_nones(x) for x in value if x!=None and x!='[]']\n",
    "    elif isinstance(value, dict):\n",
    "        return {\n",
    "            key: clean_nones(val)\n",
    "            for key, val in value.items()\n",
    "            if val is not None and val!='[]'\n",
    "        }\n",
    "    else:\n",
    "        return value"
   ]
  },
  {
   "cell_type": "code",
   "execution_count": 28,
   "metadata": {},
   "outputs": [],
   "source": [
    "new_list = list(map(clean_nones, outlist))"
   ]
  },
  {
   "cell_type": "code",
   "execution_count": 29,
   "metadata": {},
   "outputs": [
    {
     "data": {
      "text/plain": [
       "{'report_sid': 0,\n",
       " 'isentence': 'mediolateral and spot magnification cc and mediolateral views of the right breast were performed digitally and reviewed with the aid of r2 cad 9.3',\n",
       " 'report_id': 0,\n",
       " 'clinical_information': '79-year-old with new calcifications noted on screening mammogram. No current breast complaints.',\n",
       " 'findings': \"Mediolateral and spot magnification CC and mediolateral views of the right breast were performed digitally and reviewed with the aid of R2 CAD 9.3. The breast parenchyma is composed of scattered fibroglandular density, unchanged in pattern and distribution. Redemonstration of two groups of calcifications within the upper outer breast, 9 o'clock radian. These calcifications were new on the most recent screening mammogram and ones located more posteriorly have an irregular morphology. No suspicious mass lesion or architectural distortion is noted.\",\n",
       " 'comparison': 'Screening mammogram 12/19/14 and prior',\n",
       " 'impression': 'New grouped irregular calcifications in the right upper outer breast as described. Further evaluation with stereotactic biopsy is recommended for the calcifications located posteriorly.BIRADS: 4 - Suspicious Abnormality.RECOMMENDATION: H - Percutaneous Biopsy/Aspiration.',\n",
       " 'modality': 'XRAY',\n",
       " 'Masses': {},\n",
       " 'Calcification': {},\n",
       " 'Architectural distortion': {},\n",
       " 'Asymmetries': {},\n",
       " 'Intramammary lymph node': {},\n",
       " 'Skin lesion': {},\n",
       " 'Solitary dilated duct': {},\n",
       " 'Associated features': {}}"
      ]
     },
     "execution_count": 29,
     "metadata": {},
     "output_type": "execute_result"
    }
   ],
   "source": [
    "new_list[0]\n",
    "### in this case, still keep the first level headers such as \n",
    "### 'Masses', 'Calcification', 'Architectural distortion', ..."
   ]
  },
  {
   "cell_type": "code",
   "execution_count": 30,
   "metadata": {},
   "outputs": [],
   "source": [
    "with open('output-v2.json', 'w') as file:\n",
    "    json.dump(new_list, file, indent = 4)"
   ]
  },
  {
   "cell_type": "code",
   "execution_count": 31,
   "metadata": {},
   "outputs": [],
   "source": [
    "### if the first level header's all sub-header has empty value, remove it\n",
    "### three empty value type: [], {}, '[]'\n",
    "for i in new_list:\n",
    "    for k in i.copy():\n",
    "        if i[k]==[] or i[k]=={} or i[k]=='[]':\n",
    "            del i[k]"
   ]
  },
  {
   "cell_type": "code",
   "execution_count": 32,
   "metadata": {},
   "outputs": [
    {
     "data": {
      "text/plain": [
       "{'report_sid': 0,\n",
       " 'isentence': 'mediolateral and spot magnification cc and mediolateral views of the right breast were performed digitally and reviewed with the aid of r2 cad 9.3',\n",
       " 'report_id': 0,\n",
       " 'clinical_information': '79-year-old with new calcifications noted on screening mammogram. No current breast complaints.',\n",
       " 'findings': \"Mediolateral and spot magnification CC and mediolateral views of the right breast were performed digitally and reviewed with the aid of R2 CAD 9.3. The breast parenchyma is composed of scattered fibroglandular density, unchanged in pattern and distribution. Redemonstration of two groups of calcifications within the upper outer breast, 9 o'clock radian. These calcifications were new on the most recent screening mammogram and ones located more posteriorly have an irregular morphology. No suspicious mass lesion or architectural distortion is noted.\",\n",
       " 'comparison': 'Screening mammogram 12/19/14 and prior',\n",
       " 'impression': 'New grouped irregular calcifications in the right upper outer breast as described. Further evaluation with stereotactic biopsy is recommended for the calcifications located posteriorly.BIRADS: 4 - Suspicious Abnormality.RECOMMENDATION: H - Percutaneous Biopsy/Aspiration.',\n",
       " 'modality': 'XRAY'}"
      ]
     },
     "execution_count": 32,
     "metadata": {},
     "output_type": "execute_result"
    }
   ],
   "source": [
    "new_list[0]"
   ]
  },
  {
   "cell_type": "code",
   "execution_count": 33,
   "metadata": {},
   "outputs": [],
   "source": [
    "with open('output-v3.json', 'w') as file:\n",
    "    json.dump(new_list, file, indent = 4)"
   ]
  },
  {
   "cell_type": "code",
   "execution_count": null,
   "metadata": {},
   "outputs": [],
   "source": []
  }
 ],
 "metadata": {
  "kernelspec": {
   "display_name": "Python 3",
   "language": "python",
   "name": "python3"
  },
  "language_info": {
   "codemirror_mode": {
    "name": "ipython",
    "version": 3
   },
   "file_extension": ".py",
   "mimetype": "text/x-python",
   "name": "python",
   "nbconvert_exporter": "python",
   "pygments_lexer": "ipython3",
   "version": "3.7.4"
  }
 },
 "nbformat": 4,
 "nbformat_minor": 2
}
